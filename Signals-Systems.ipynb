{
 "cells": [
  {
   "cell_type": "markdown",
   "metadata": {},
   "source": [
    "# Signals and Systems\n",
    "\n",
    "INTRO/MOTIVATION\n"
   ]
  },
  {
   "cell_type": "markdown",
   "metadata": {},
   "source": [
    "## Linear Shift Invariant Systems\n",
    "\n",
    "A system takes in an input and produces an output. In neuroscience you can find many things that can be classified as a system: a model organism, where the input is the sensory stimulus and the output is the behavior; single cell recordings and call the injected current the input and the membrane potential as the output.\n",
    "\n",
    "For generality, let's call a generic system\n",
    " \n",
    " ![title](Signals-Systems-fig/x--y.png?raw=true)\n",
    "\n",
    "In this section we will define linear shift-invariant (LSI) systems and their use in neuroscience. "
   ]
  },
  {
   "cell_type": "markdown",
   "metadata": {},
   "source": [
    "### Linear Systems\n",
    "\n",
    "A linear system is one where the map from inputs to outputs is a linear map. Another way of saying this is that if you scale and/or sum the inputs, the output is the scaled and/or summed output. \n",
    "\n",
    "For example, \n",
    "\n",
    "![title](Signals-Systems-fig/bx--y.png)\n",
    "\n",
    "and\n",
    "\n",
    "![title](Signals-Systems-fig/xy--fxfy.png)\n",
    "\n",
    "This of course applies to the composition of both of these. \n",
    "\n",
    "![title](Signals-Systems-fig/axby--afxbfy.png)\n",
    "\n"
   ]
  },
  {
   "cell_type": "markdown",
   "metadata": {},
   "source": [
    "### Shift Invariant Systems\n",
    "\n",
    "A shift-invariant system is one in which a shifted version of the input produces a shifted version of the output. \n",
    "\n",
    "In the above diagram, this can be shown as \n",
    "\n",
    "![title](Signals-Systems-fig/x-y-xk-yk.png)\n",
    "\n",
    "Colloquially this can be described as \"it doesn't matter when you apply the input, you will always get the same output\"\n"
   ]
  },
  {
   "cell_type": "markdown",
   "metadata": {},
   "source": [
    "\n",
    "### Examples in Neuroscience\n",
    "\n",
    "In a lot of neuroscience, we assume shift invariant systems For example,  when you aren't studying learning, when we stimulate and record we treat the responses as identical (by averaging, etc.) disregarding when we applied them. In the below table are some other examples of LSI systems in neuroscience\n",
    "\n",
    "\n",
    "<br>\n",
    "<table style=\"width:80%\">\n",
    "  <tr>\n",
    "    <th>Input</th>\n",
    "    <th>System</th> \n",
    "    <th>Output</th>\n",
    "  </tr>\n",
    "  <tr>\n",
    "    <td>Pre-synaptic Action Potential</td>\n",
    "    <td>Synaptic Vesicle</td> \n",
    "    <td>Amount of Neurotransmitter</td>\n",
    "  </tr>\n",
    "  <tr>\n",
    "    <td>Visual Stimulus</td>\n",
    "    <td>Eye</td> \n",
    "    <td>Retinal Image</td>\n",
    "  </tr>\n",
    "    <tr>\n",
    "    <td>Stimulus Constrast</td>\n",
    "    <td>Retinal Ganglion Cell</td> \n",
    "    <td>Firing Rate</td>\n",
    "  </tr>\n",
    "    <tr>\n",
    "    <td>Injected Current</td>\n",
    "    <td>Neuron Membrane</td> \n",
    "    <td>Membrane Potential</td>\n",
    "  </tr>\n",
    "  <tr>\n",
    "    <td></td>\n",
    "    <td></td> \n",
    "    <td></td>\n",
    "  </tr>\n",
    "</table>\n",
    "<br>\n",
    "\n",
    "<center>(table adapted from http://www.ceri.memphis.edu/~smalley/ESCI7355/Ch6_Linear_Systems_Conv.pdf) </center>\n",
    "\n",
    "\n"
   ]
  },
  {
   "cell_type": "markdown",
   "metadata": {},
   "source": [
    "COULD ADD CODE EXAMPLES OF LSI and non-LSI systems"
   ]
  },
  {
   "cell_type": "markdown",
   "metadata": {},
   "source": [
    "## Convolution\n",
    "Jungsoo"
   ]
  },
  {
   "cell_type": "markdown",
   "metadata": {},
   "source": [
    "## Sinusoids\n",
    "\n",
    "![title](Signals-Systems-fig/unitcircle.png)\n",
    "\n",
    "$sin^2(\\theta) + cos^2(\\theta) = 1$\n",
    "\n",
    "<img src=\"Signals-Systems-fig/sinusoid.png\" alt=\"drawing\" width=\"300px\"/>"
   ]
  },
  {
   "cell_type": "markdown",
   "metadata": {},
   "source": [
    "## Fourier Transform\n",
    "Any arbitrary function can be broken down into a sum of sinusoidal functions. \n",
    "\n",
    "\n",
    "For example, imagine you wanted to represent this pulse function as a bunch of sinusoids."
   ]
  },
  {
   "cell_type": "code",
   "execution_count": 33,
   "metadata": {},
   "outputs": [
    {
     "name": "stdout",
     "output_type": "stream",
     "text": [
      "\n"
     ]
    },
    {
     "data": {
      "image/png": "[encoded data removed]",
      "text/plain": [
       "<IPython.core.display.Image object>"
      ]
     },
     "metadata": {},
     "output_type": "display_data"
    }
   ],
   "source": [
    "t = 0:0.01:pi;\n",
    "plot(t, square(2*pi*t)); ylim([-1.3 1.3])"
   ]
  },
  {
   "cell_type": "markdown",
   "metadata": {},
   "source": [
    "You might start with a sine wave that has the same frequency. \n",
    " - Run the below code with userEnd = 1;\n",
    " \n",
    "Notice that the biggest errors occur at the sharp edges. So what if we added a sine wave which had 3 times the frequency. \n",
    " - Run the below code with userEnd = 2;\n",
    "\n",
    "Test it out some more and see what happens as you increase userEnd"
   ]
  },
  {
   "cell_type": "markdown",
   "metadata": {},
   "source": [
    "$$ x = \\frac{4}{\\pi}\\sum_{k=1}^{\\infty} \\frac{\\sin(2\\pi(2k-1)ft)}{2k-1} $$ "
   ]
  },
  {
   "cell_type": "code",
   "execution_count": 20,
   "metadata": {},
   "outputs": [
    {
     "name": "stdout",
     "output_type": "stream",
     "text": [
      "\n"
     ]
    },
    {
     "data": {
      "image/png": "[encoded data removed]",
      "text/plain": [
       "<IPython.core.display.Image object>"
      ]
     },
     "metadata": {},
     "output_type": "display_data"
    }
   ],
   "source": [
    "\n",
    "\n",
    "userEnd = 250;\n",
    "\n",
    "t = 0:0.01:pi;\n",
    "f = 1;\n",
    "out = 0;\n",
    "\n",
    "for k = 1:userEnd\n",
    "    out = out + 4/pi*sin(2*pi*(2*k-1)*f*t)/(2*k-1);    \n",
    "end\n",
    "\n",
    "figure; \n",
    "plot(t, square(2*pi*t));\n",
    "hold on; ylim([-1.3 1.3])\n",
    "plot(t, out); \n"
   ]
  },
  {
   "cell_type": "markdown",
   "metadata": {},
   "source": [
    "To perfectly match this square pulse we would have to set userEnd to $\\infty$. But by the time you get to 50 it looks pretty good, and at 250 it's barely distinguishable. \n",
    "\n",
    "*Note, the wikipedia page for Square Wave (https://en.wikipedia.org/wiki/Square_wave) has some other cool animations. \n",
    "\n",
    " So we could take any repeating signal and represent it as a sum of a bunch of sinusoids. We could also look at any signal and see what frequncies of sinusoids exist in the signal and choose to remove (filter) them. For example, if we knew noise typically occurs at 60 Hz, we could specifically filter out that frequency, or we can remove all frequencies that are higher than a certain threshold.  \n",
    " \n",
    " \n",
    " So we could take this same square wave and perform a fourier transform of it. \n",
    " \n",
    " MATLAB has a function fft(). Now when fft() is used, it [DOES A THING] use fftshift\n",
    " \n",
    " fft shows you the magnitude (gain) on the sinusoid that exists at that frequency. So the x-axis will be frequency, and it will go from "
   ]
  },
  {
   "cell_type": "code",
   "execution_count": 34,
   "metadata": {},
   "outputs": [
    {
     "name": "stdout",
     "output_type": "stream",
     "text": [
      "\n"
     ]
    },
    {
     "data": {
      "image/png": "[encoded data removed]",
      "text/plain": [
       "<IPython.core.display.Image object>"
      ]
     },
     "metadata": {},
     "output_type": "display_data"
    }
   ],
   "source": [
    "squarewave = square(2*pi*t);\n",
    "N = length(squarewave);\n",
    "fft_square = fft(squarewave)/N; % take the fourier transform AND normalize by the length of the signal\n",
    "%fft_square = fftshift(fft_square); %use fftshift\n",
    "plot(abs(fft_square)); % fourier transform includes imaginary numbers. Plot the real part"
   ]
  },
  {
   "cell_type": "markdown",
   "metadata": {
    "collapsed": true
   },
   "source": [
    "EFFECT OF LSI ON SINUSOIDS\n",
    "\n",
    "EULERS IDENTITY\n",
    "\n",
    "SINUSOIDS AS EIGENFUNCTIONS\n",
    "\n",
    "\n",
    "\n",
    "INVERSE FT\n",
    "\n",
    "DISCRETE AND CONTINUOUS\n",
    "\n",
    "EXAMPLES\n",
    "\n",
    "MATLAB"
   ]
  },
  {
   "cell_type": "code",
   "execution_count": null,
   "metadata": {
    "collapsed": true
   },
   "outputs": [],
   "source": []
  }
 ],
 "metadata": {
  "kernelspec": {
   "display_name": "Matlab",
   "language": "matlab",
   "name": "matlab"
  },
  "language_info": {
   "codemirror_mode": "octave",
   "file_extension": ".m",
   "help_links": [
    {
     "text": "MetaKernel Magics",
     "url": "https://github.com/calysto/metakernel/blob/master/metakernel/magics/README.md"
    }
   ],
   "mimetype": "text/x-octave",
   "name": "matlab",
   "version": "0.15.1"
  }
 },
 "nbformat": 4,
 "nbformat_minor": 2
}
