{
 "cells": [
  {
   "cell_type": "markdown",
   "metadata": {},
   "source": [
    "# Signals and Systems\n",
    "\n",
    "INTRO/MOTIVATION\n"
   ]
  },
  {
   "cell_type": "markdown",
   "metadata": {},
   "source": [
    "## Linear Shift Invariant Systems\n",
    "\n",
    "A system takes in an input and produces an output. In neuroscience you can find many things that can be classified as a system: a model organism, where the input is the sensory stimulus and the output is the behavior; single cell recordings and call the injected current the input and the membrane potential as the output.\n",
    "\n",
    "For generality, let's call a generic system\n",
    " \n",
    " ![title](Signals-Systems-fig/x--mxb--y.png?raw=true)\n",
    "\n",
    "In this section we will define linear shift-invariant (LSI) systems and their use in neuroscience. "
   ]
  },
  {
   "cell_type": "markdown",
   "metadata": {},
   "source": [
    "### Linear Systems\n",
    "\n",
    "A linear system is one where the map from inputs to outputs is a linear map. Another way of saying this is that if you scale and/or sum the inputs, the output is the scaled and/or summed output. \n",
    "\n",
    "For example, \n",
    "\n",
    "![title](Signals-Systems-fig/bx--y.svg)\n",
    "\n",
    "and\n",
    "\n",
    "![title](Signals-Systems-fig/xy--fxfy.svg)\n",
    "\n",
    "This of course applies to the composition of both of these. \n",
    "\n",
    "![title](Signals-Systems-fig/axby--afxbfy.svg)\n",
    "\n"
   ]
  },
  {
   "cell_type": "markdown",
   "metadata": {},
   "source": [
    "### Shift Invariant Systems\n",
    "\n",
    "A shift-invariant system is one in which a shifted version of the input produces a shifted version of the output. \n",
    "\n",
    "In the above diagram, this can be shown as \n",
    "\n",
    "![title](Signals-Systems-fig/x-y-xk-yk.svg)\n",
    "\n",
    "Colloquially this can be described as \"it doesn't matter when you apply the input, you will always get the same output\"\n"
   ]
  },
  {
   "cell_type": "markdown",
   "metadata": {},
   "source": [
    "\n",
    "### Examples in Neuroscience\n",
    "\n",
    "In a lot of neuroscience, we assume shift invariant systems For example,  when you aren't studying learning, when we stimulate and record we treat the responses as identical (by averaging, etc.) disregarding when we applied them. In the below table are some other examples of LSI systems in neuroscience\n",
    "\n",
    "\n",
    "<br>\n",
    "<table style=\"width:80%\">\n",
    "  <tr>\n",
    "    <th>Input</th>\n",
    "    <th>System</th> \n",
    "    <th>Output</th>\n",
    "  </tr>\n",
    "  <tr>\n",
    "    <td>Pre-synaptic Action Potential</td>\n",
    "    <td>Synaptic Vesicle</td> \n",
    "    <td>Amount of Neurotransmitter</td>\n",
    "  </tr>\n",
    "  <tr>\n",
    "    <td>Visual Stimulus</td>\n",
    "    <td>Eye</td> \n",
    "    <td>Retinal Image</td>\n",
    "  </tr>\n",
    "    <tr>\n",
    "    <td>Stimulus Constrast</td>\n",
    "    <td>Retinal Ganglion Cell</td> \n",
    "    <td>Firing Rate</td>\n",
    "  </tr>\n",
    "    <tr>\n",
    "    <td>Injected Current</td>\n",
    "    <td>Neuron Membrane</td> \n",
    "    <td>Membrane Potential</td>\n",
    "  </tr>\n",
    "  <tr>\n",
    "    <td></td>\n",
    "    <td></td> \n",
    "    <td></td>\n",
    "  </tr>\n",
    "</table>\n",
    "<br>\n",
    "\n",
    "\n",
    "\n",
    "<center>(adapted from http://www.ceri.memphis.edu/~smalley/ESCI7355/Ch6_Linear_Systems_Conv.pdf) </center>\n",
    "\n",
    "\n"
   ]
  },
  {
   "cell_type": "markdown",
   "metadata": {},
   "source": [
    "## Convolution"
   ]
  },
  {
   "cell_type": "markdown",
   "metadata": {},
   "source": [
    "### Impulse response"
   ]
  },
  {
   "cell_type": "markdown",
   "metadata": {},
   "source": [
    "### Convolution Operation"
   ]
  },
  {
   "cell_type": "code",
   "execution_count": null,
   "metadata": {
    "collapsed": true
   },
   "outputs": [],
   "source": []
  }
 ],
 "metadata": {
  "kernelspec": {
   "display_name": "Python 3",
   "language": "python",
   "name": "python3"
  },
  "language_info": {
   "codemirror_mode": {
    "name": "ipython",
    "version": 3
   },
   "file_extension": ".py",
   "mimetype": "text/x-python",
   "name": "python",
   "nbconvert_exporter": "python",
   "pygments_lexer": "ipython3",
   "version": "3.6.3"
  }
 },
 "nbformat": 4,
 "nbformat_minor": 2
}
