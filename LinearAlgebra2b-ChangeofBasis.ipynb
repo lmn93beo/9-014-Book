{
 "cells": [
  {
   "cell_type": "markdown",
   "metadata": {},
   "source": [
    "## 2. Basis and Change of Basis (cont'd)"
   ]
  },
  {
   "cell_type": "markdown",
   "metadata": {},
   "source": [
    "### Change of basis"
   ]
  },
  {
   "cell_type": "markdown",
   "metadata": {},
   "source": [
    "The coordinates of a vector only make sense with reference to a particular basis set. For instance, when we say the vector **v** is (1, 2), we implicitly mean that, with reference to the basis set $(1,0), (0,1)$, **v** has length 1 along the first element and length 2 along the second element.\n",
    "\n",
    "Now we don't have to use the standard basis. Let's try to express **v** in a different basis set, say $\\left(\\frac{3}{5},\\frac{4}{5}\\right)$ and $\\left(\\frac{-4}{5}, \\frac{3}{5}\\right)$ [Why is this a basis set?]"
   ]
  },
  {
   "cell_type": "markdown",
   "metadata": {},
   "source": [
    "Let's call this basis $B$.\n",
    "\n",
    "If you draw the standard basis set and the new basis set on a graph, you will see that they are just rotated versions of one another.\n",
    "\n",
    "\n",
    "Ok. Now comes the difficult concept. How do I *express* a vector in a basis? What do I mean by expressing a vector in a basis? It means to express it as a linear combination of the basis elements.\n",
    "\n",
    "The vector $(-11,2)$ can be expressed as\n",
    "\n",
    "$$(-11,2) = \\textbf{-11} . (1,0) + \\textbf{2} . (0,1)$$\n",
    "\n",
    "So we say that $(-11,2)$, expressed in the standard basis $S$ is $(\\textbf{-11, 2})$ This shouldn't come as a surprise since $S$ is the standard basis.\n",
    "\n",
    "Now what is $(-11,2)$ expressed in basis $B$? For now, verify that \n",
    "\n",
    "$$(-11,2) = -5.\\left(\\frac{3}{5},\\frac{4}{5}\\right) + 10 .  \\left(\\frac{-4}{5}, \\frac{3}{5}\\right)$$\n",
    "\n",
    "Thus, $(-11,2)$ expressed in basis $B$ is $(-5,10)_B$. If this sounds a bit strange, imagine tilting your head and look at the vector $(-11,2)$ from the perspective of the new coordinate system. You will find that the projections of this vector onto the rotated axes have lengths that are exactly -5 and 10."
   ]
  },
  {
   "cell_type": "markdown",
   "metadata": {},
   "source": [
    "### How to change basis\n",
    "\n",
    "Now the numbers -5 and 10 might have seemed to pop out of nowhere. How can we get these values?\n",
    "\n",
    "Let's say we didn't know what the new coordinates are, let's call them $(a,b)$ and our goal is to find $(a,b)$.\n",
    "\n",
    "Now by definition, we know \n",
    "\n",
    "$$(-11,2) = a.\\left(\\frac{3}{5},\\frac{4}{5}\\right) + b .  \\left(\\frac{-4}{5}, \\frac{3}{5}\\right)$$\n",
    "\n",
    "Another way of writing this is, if we use matrix notation:\n",
    "\n",
    "$$\\begin{bmatrix}\n",
    "\t-11 \\\\\n",
    "\t2 \n",
    "\\end{bmatrix} = \\begin{bmatrix}\n",
    "\\frac{3}{5} & \\frac{-4}{5}\\\\\n",
    "\\frac{4}{5} & \\frac{3}{5}\n",
    "\\end{bmatrix} .\n",
    "\\begin{bmatrix}\n",
    "a \\\\\n",
    "b\n",
    "\\end{bmatrix}\n",
    "$$\n",
    "\n",
    "Now notice what the big matrix in the middle is. It is formed by putting the basis elements as rows! So... if you recall from our previous discussion, it is an *orthnormal matrix*.\n",
    "\n",
    "Written in this form, it is easy to find out the values of $a$ and $b$, we just need to know how to invert the matrix $M$. But inverting this matrix is easy because it is orthonormal!\n",
    "\n",
    "$$\\begin{bmatrix}\n",
    "\\frac{3}{5} & \\frac{4}{5}\\\\\n",
    "\\frac{-4}{5} & \\frac{3}{5}\n",
    "\\end{bmatrix} . \\begin{bmatrix}\n",
    "\t-11 \\\\\n",
    "\t2 \n",
    "\\end{bmatrix} =\n",
    "\\begin{bmatrix}\n",
    "a \\\\\n",
    "b\n",
    "\\end{bmatrix}\n",
    "$$"
   ]
  },
  {
   "cell_type": "markdown",
   "metadata": {},
   "source": [
    "Computing the matrix multiplication on the right gives us the result $$\\begin{bmatrix}\n",
    "\t-5 \\\\\n",
    "\t10 \n",
    "\\end{bmatrix}$$"
   ]
  },
  {
   "cell_type": "markdown",
   "metadata": {
    "collapsed": true
   },
   "source": [
    "which is the coordinates of **v** in basis $B$."
   ]
  },
  {
   "cell_type": "code",
   "execution_count": null,
   "metadata": {
    "collapsed": true
   },
   "outputs": [],
   "source": []
  }
 ],
 "metadata": {
  "kernelspec": {
   "display_name": "Python 3",
   "language": "python",
   "name": "python3"
  },
  "language_info": {
   "codemirror_mode": {
    "name": "ipython",
    "version": 3
   },
   "file_extension": ".py",
   "mimetype": "text/x-python",
   "name": "python",
   "nbconvert_exporter": "python",
   "pygments_lexer": "ipython3",
   "version": "3.6.3"
  }
 },
 "nbformat": 4,
 "nbformat_minor": 2
}
