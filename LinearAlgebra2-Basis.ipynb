{
 "cells": [
  {
   "cell_type": "markdown",
   "metadata": {},
   "source": [
    "## 2. Basis and Change of Basis"
   ]
  },
  {
   "cell_type": "markdown",
   "metadata": {},
   "source": [
    "### Basis\n",
    "\n",
    "Now we come to the introduction of an important concept, that of a basis set.\n",
    "\n",
    "Let's take an example of the 2D plane, and consider these two special vectors, $(1,0)$ and $(0,1)$. These are vectors of unit length (length 1), and they point along the x- and y- axis, respectively.\n",
    "\n",
    "What's special about these two vectors? If you give me *any* vector in the 2D plane, I can always express it as a *linear combination* of these two vectors. A *linear combination* is just a fancy way of saying, weighted sum.\n",
    "\n",
    "For example, if you give me the vector $(5, 3)$, I can express it as\n",
    "\n",
    "$$(5,3) = 5.(1,0) + 3.(0,1)$$\n",
    "\n",
    "This is a linear combination - the two vectors have been scaled by 5 and 3, and added together. You can convince yourself that this can be done no matter what vector you give me. If you give me $(-101, \\pi)$, I will write $(-101,\\pi) = -101.(1,0) + \\pi.(0,1)$.\n",
    "\n",
    "Now, since the set $(1,0)$ and $(0,1)$ has this property, we say these two vectors *span* the 2D space.\n",
    "\n",
    "Furthermore, they are *linearly independent*. This says you can't produce one from the other by scaling.\n",
    "\n",
    "Any set of vectors that satisfy these two properties - spanning the 2D space and being linearly independent - is called a *basis set* of the 2D space.\n",
    "\n",
    "\n",
    "\n",
    "\n"
   ]
  },
  {
   "cell_type": "markdown",
   "metadata": {},
   "source": [
    "**Examples of basis sets**\n",
    "\n",
    "So $(1,0)$ and $(0,1)$ form a basis set of the 2D space. We call this the *standard basis* because it is so simple.\n",
    "\n",
    "But there are other basis sets, too. For instance, consider these two vectors $(1,1)$ and $(1,-1)$. Now do they span the 2D space? Yes! If you give me a vector $(x,y)$, I can express it as \n",
    "\n",
    "$$(x,y) = \\frac{x+y}{2} (1,1) + \\frac{x-y}{2} (1, -1)$$\n",
    "\n",
    "Check that the above identity is true. As an example, if you give me $(5,3)$, I can write it as $(5,3) = 4(1,1) + 1(1,-1)$.\n",
    "\n",
    "Are they linearly independent? Yes! You can't scale one vector to produce the other - they point in completely different directions.\n",
    "\n",
    "So $(1,1)$ and $(1,-1)$ form a *basis set* of the 2D space.\n"
   ]
  },
  {
   "cell_type": "markdown",
   "metadata": {},
   "source": [
    "### Orthnormal basis"
   ]
  },
  {
   "cell_type": "markdown",
   "metadata": {},
   "source": [
    "There are two other properties that make $(1,0)$ and $(0,1)$ even more special. First, they are *perpendicular to each other*. This should be obvious by looking at the two vectors visually. If you want to convince yourself further, take their dot product and confirm that the dot product is 0. (Recall that two vectors are perpendicular if and only if their dot product is zero).\n",
    "\n",
    "The second property that the two vectors satisfy is that they both have *unit length* (length 1). Again, this should be obvious, but if you want to be rigorous, apply the norm formula and convince yourself that this is the case.\n",
    "\n",
    "If a basis set has these two extra properties, that the vectors are all perpendicular to each other and that each vector in the set has length 1, we say they form an **orthonormal basis set**\n",
    "\n",
    "** Examples **\n",
    "\n",
    "Let's check if our previous basis set, $(1,1)$ and $(1,-1)$ form an orthonormal basis set. Are they perpendicular? Yes!\n",
    "\n",
    "$$(1,1) . (1,-1) = 1.1 + 1.(-1) = 0$$\n",
    "\n",
    "Do they have unit length? Unfortunately not, the norm of $(1,1)$ is $\\sqrt{1^2+1^2} = \\sqrt{2}$.\n",
    "\n",
    "So they do not form an orthonormal basis. All we need to do to turn them into an orthonormal basis is to scale each of the vector by $\\frac{1}{\\sqrt{2}}$ so that they each become a unit vector. If we do that, we get the set $\\left(\\frac{1}{\\sqrt{2}}, \\frac{1}{\\sqrt{2}}\\right)$ and $\\left(\\frac{1}{\\sqrt{2}}, \\frac{-1}{\\sqrt{2}}\\right)$. You can verify that this is an orthonomral basis by our definition."
   ]
  },
  {
   "cell_type": "markdown",
   "metadata": {},
   "source": [
    "### Why bother with basis sets?\n",
    "\n",
    "As you will see, finding the correct basis set makes analysis easier. You have probably tried to find the best fit line in a linear regression multiple times. The process of finding the relevant axis which explains most of the variance in your data is called Principal Component Analysis (PCA) and it has to do with finding the best orthonormal basis that maximizes the variance explained along each of the component vector."
   ]
  },
  {
   "cell_type": "code",
   "execution_count": null,
   "metadata": {
    "collapsed": true
   },
   "outputs": [],
   "source": []
  }
 ],
 "metadata": {
  "kernelspec": {
   "display_name": "Python 3",
   "language": "python",
   "name": "python3"
  },
  "language_info": {
   "codemirror_mode": {
    "name": "ipython",
    "version": 3
   },
   "file_extension": ".py",
   "mimetype": "text/x-python",
   "name": "python",
   "nbconvert_exporter": "python",
   "pygments_lexer": "ipython3",
   "version": "3.6.3"
  }
 },
 "nbformat": 4,
 "nbformat_minor": 2
}
