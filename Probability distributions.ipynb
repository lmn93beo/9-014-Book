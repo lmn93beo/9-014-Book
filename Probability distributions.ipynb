{
 "cells": [
  {
   "cell_type": "markdown",
   "metadata": {},
   "source": [
    "# Part III: Probabilistic Models"
   ]
  },
  {
   "cell_type": "markdown",
   "metadata": {},
   "source": [
    "## 1. Probability distributions"
   ]
  },
  {
   "cell_type": "markdown",
   "metadata": {},
   "source": [
    "A lot of variables around us are random: the height of a person, the outcome of a coin flip, the number of people entering a shop on a given day... A quantity which follows some probabilistic distribution is called a *random variable*. This means we don't know what the quantity will be, but we know exactly how it will turn out with some distribution.\n",
    "\n",
    "As an example, let $X$ denote the outcome of a roll of a die. Now if we roll a die, we don't know exactly what number we will get, but we know what the probability for each outcome: there is a $\\frac{1}{6}$ chance that $X=1$, there is a $\\frac{1}{6}$ chance that $X=2$, and so on... For each outcome, we know the probability of that outcome happening.\n",
    "\n",
    "This probability for each individual outcome is called the *probability distribution*\n",
    "\n",
    "As we will find out, there are common probability distributions that keeps occuring over and over again, and they have stories to tell!"
   ]
  },
  {
   "cell_type": "markdown",
   "metadata": {},
   "source": [
    "## 2. Common probability distributions"
   ]
  },
  {
   "cell_type": "markdown",
   "metadata": {},
   "source": [
    "### a. Discrete distributions\n",
    "\n",
    "* **Bernoulli**\n",
    "\n",
    "An example of a Bernoulli distribution is a coin flip: there are two outcomes: heads (H) or tails (T), each outcome occuring with a probability of $\\frac{1}{2}$. We say that the outcome of a coin flip follows a Bernoulli distribution with $p=\\frac{1}{2}$.\n",
    "\n",
    "Now if the coin is biased such that the probability of getting heads is $\\frac{2}{3}$, then we say the outcome of that coin flip follows a Bernoulli distribution with $p = \\frac{2}{3}$.\n",
    "\n",
    "*Properties*\n",
    "\n",
    "* Mean = $p$\n",
    "* Variance = $p(1-p)$"
   ]
  },
  {
   "cell_type": "markdown",
   "metadata": {},
   "source": [
    "* **Binomial**\n",
    "A Binomial distribution is a distribution of Bernoulli events (think: coin flips). Here's an example. You flip a fair coin 10 times and count the number of heads, $H$. This number follows a Binomial distribution with $n=10, p =\\frac{1}{2}$\n",
    "\n",
    "Let's calculate the probability that you get 3 heads:\n",
    "\n",
    "$$ p = \\binom{n}{x} p^x (1-p)^{n-x}$$\n",
    "\n",
    "*Properties*\n",
    "\n",
    "Mean = $np$\n",
    "\n",
    "Variance = $np(1-p)$"
   ]
  },
  {
   "cell_type": "markdown",
   "metadata": {},
   "source": [
    "* **Poisson**\n",
    "\n",
    "Independent events \n",
    "\n",
    "$$p(x) = \\frac{\\lambda^x \\exp{-\\lambda}}{x!}$$\n",
    "\n",
    "*Properties*\n",
    "\n",
    "Mean = $\\lambda$\n",
    "\n",
    "Variance = $\\lambda$"
   ]
  },
  {
   "cell_type": "markdown",
   "metadata": {},
   "source": [
    "## Continuous distributions"
   ]
  },
  {
   "cell_type": "markdown",
   "metadata": {},
   "source": [
    "* **Normal**\n",
    "\n",
    "Mean = $\\mu$, variance = $\\sigma^2$"
   ]
  },
  {
   "cell_type": "code",
   "execution_count": null,
   "metadata": {},
   "outputs": [],
   "source": []
  }
 ],
 "metadata": {
  "kernelspec": {
   "display_name": "Matlab",
   "language": "matlab",
   "name": "matlab"
  },
  "language_info": {
   "codemirror_mode": "octave",
   "file_extension": ".m",
   "help_links": [
    {
     "text": "MetaKernel Magics",
     "url": "https://github.com/calysto/metakernel/blob/master/metakernel/magics/README.md"
    }
   ],
   "mimetype": "text/x-octave",
   "name": "matlab",
   "version": "0.15.0"
  }
 },
 "nbformat": 4,
 "nbformat_minor": 2
}
