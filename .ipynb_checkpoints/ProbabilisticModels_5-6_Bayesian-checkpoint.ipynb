{
 "cells": [
  {
   "cell_type": "markdown",
   "metadata": {},
   "source": [
    "## Probabilistic Models"
   ]
  },
  {
   "cell_type": "markdown",
   "metadata": {},
   "source": [
    "## 5. Bayesian Inference"
   ]
  },
  {
   "cell_type": "markdown",
   "metadata": {},
   "source": [
    "### Bayes' Rule / Law / Theorem\n",
    "\n",
    "The joint probability $P(X,Y)$ is the probability that two events, $X$ and $Y$, both occur and can be written as:\n",
    "\n",
    "$$ P(X, Y) = P(X | Y) \\times P(Y) $$\n",
    "\n",
    "where $P(Y)$ is the probability that $Y$ occurs and $P(X|Y)$ is the probability that $X$ occurs conditioned on $Y$ occuring.\n",
    "\n",
    "\n",
    "We can easily derive Bayes' Rule from the fact that $P(X,Y) = P(Y,X)$:\n",
    "\n",
    "$$P(X,Y) = P(Y,X)$$\n",
    "\n",
    "$$ P(X | Y) \\times P(Y) = P(Y | X) \\times P(X) $$\n",
    "\n",
    "$$ P(X | Y) = \\frac{P(Y | X) \\times P(X)}{P(Y)} $$\n"
   ]
  },
  {
   "cell_type": "markdown",
   "metadata": {},
   "source": [
    "### Prior, Likelihood, and Posterior\n",
    "\n",
    "$$ \\text{Bayes' Rule:} \\quad P(X | Y) = \\frac{P(Y | X) \\times P(X)}{P(Y)} $$\n",
    "\n",
    "$$ \\text{Posterior} \\propto  \\text{Likelihood} \\times \\text{Prior}$$\n",
    "\n",
    "$P(Y | X)$ : Likelihood function\n",
    "\n",
    "$P(X)$ : Prior probability\n",
    "\n",
    "$P(Y)$ : Marginal probability of $Y$ (normalizing factor)\n",
    "\n",
    "$P(X | Y)$ : Posterior probability\n",
    "\n",
    "The variance of the posterior is always less than or equal to the variance of the prior (the likelihood function of your observation further constrains the posterior).\n",
    "\n",
    "#### Perception example: noisy measurement with prior belief\n",
    "\n",
    "Imagnie trying to estimate the speed of a passing car. Let $S$ represent the stimulus: the passing car. The sensory systems measure various properties about this stimulus (the moving pattern of light striking the retina, the frequency and intensity of the engine noise, etc.). Let $m$ represent the measurement made by the sensory systems. The noisy measurement process can be modeled with the likelihood function $P(m | S)$, which reflects the probability of making the measurement $m$ given a stimulus $S$. In order to best infer the speed of the passing car from the noisy measurements, we want to incorporate both the likelihood function and out prior beliefs.\n",
    "\n",
    "The person is tasked with inferring the speed of the stimulus from this noisy measurement.\n",
    "\n",
    "\n",
    "$S_{\\text{stimulus}}$ ------> $m^*_{\\text{noisy measurement}}$ ------> $S^*_{\\text{estimate of stimulus}}$\n",
    "\n",
    "\n"
   ]
  },
  {
   "cell_type": "markdown",
   "metadata": {},
   "source": [
    "### Example"
   ]
  },
  {
   "cell_type": "markdown",
   "metadata": {},
   "source": [
    "## 5. Bayesian Integration in Ready-Set-Go Task"
   ]
  },
  {
   "cell_type": "markdown",
   "metadata": {},
   "source": []
  }
 ],
 "metadata": {
  "kernelspec": {
   "display_name": "Python 3",
   "language": "python",
   "name": "python3"
  },
  "language_info": {
   "codemirror_mode": {
    "name": "ipython",
    "version": 3
   },
   "file_extension": ".py",
   "mimetype": "text/x-python",
   "name": "python",
   "nbconvert_exporter": "python",
   "pygments_lexer": "ipython3",
   "version": "3.6.3"
  }
 },
 "nbformat": 4,
 "nbformat_minor": 2
}
