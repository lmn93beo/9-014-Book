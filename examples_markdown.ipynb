{
 "cells": [
  {
   "cell_type": "markdown",
   "metadata": {},
   "source": [
    "## Section 1\n",
    "\n",
    "This is an example "
   ]
  },
  {
   "cell_type": "markdown",
   "metadata": {},
   "source": [
    "# Title 1\n",
    "## Sub-title 1\n",
    "### Sub-sub title\n",
    "\n",
    "###### Sub\n",
    "\n",
    "*italicized*\n",
    "\n",
    "\n",
    "1. \n",
    "2.\n",
    "\n",
    "* bullets\n",
    "\n",
    "$$x = 1 $$\n",
    "\n",
    "$$ x_1^2$$\n",
    "\n",
    "\n",
    "This is a code block\n",
    "\n",
    "```\n",
    "x = 1\n",
    "for i in range(5):\n",
    "\n",
    "end\n",
    "```"
   ]
  },
  {
   "cell_type": "markdown",
   "metadata": {},
   "source": [
    "$$\\frac{1}{x}$$\n",
    "\n",
    "$$\\log 5 $$\n",
    "\n",
    "$$\\int_1^6 x dx$$\n",
    "\n",
    "$$\\sum_{i=0}^{10}$$\n",
    "\n",
    "$$\\prod_{i=0}^{5}$$\n",
    "\n",
    "            This\n",
    "            \n"
   ]
  },
  {
   "cell_type": "markdown",
   "metadata": {},
   "source": [
    "## Useful links:\n",
    "\n",
    "[Introduction to latex](http://bebi103.caltech.edu.s3-website-us-east-1.amazonaws.com/2017/tutorials/t0c_intro_to_latex.html)\n",
    "\n",
    "[Google Drive folder](https://drive.google.com/drive/u/0/folders/1dUVl3_DlW5PE8R5zTX9-Hyc3CH0DdvZ2)\n",
    "\n",
    "[Latex cheat sheet](users.dickinson.edu/~richesod/latex/latexcheatsheet.pdf)\n",
    "\n",
    "[Markdown help](https://daringfireball.net/projects/markdown/syntax)"
   ]
  },
  {
   "cell_type": "code",
   "execution_count": null,
   "metadata": {
    "collapsed": true
   },
   "outputs": [],
   "source": []
  }
 ],
 "metadata": {
  "kernelspec": {
   "display_name": "Python 3",
   "language": "python",
   "name": "python3"
  },
  "language_info": {
   "codemirror_mode": {
    "name": "ipython",
    "version": 3
   },
   "file_extension": ".py",
   "mimetype": "text/x-python",
   "name": "python",
   "nbconvert_exporter": "python",
   "pygments_lexer": "ipython3",
   "version": "3.6.3"
  }
 },
 "nbformat": 4,
 "nbformat_minor": 2
}
